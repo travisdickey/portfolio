{
 "cells": [
  {
   "cell_type": "markdown",
   "id": "54b508f8-a432-43d5-acae-38e98d224c34",
   "metadata": {},
   "source": [
    "# Programming Experience\n",
    "> Samples of data science & machine learning work\n",
    "\n",
    "- toc: true \n",
    "- comments: false\n",
    "- badges: false\n",
    "- categories: [portfolio, Travis Dickey, python, AI, maching learning]"
   ]
  },
  {
   "cell_type": "code",
   "execution_count": null,
   "id": "e997d828-fa5a-4f05-88a1-6f048de978c7",
   "metadata": {},
   "outputs": [],
   "source": []
  }
 ],
 "metadata": {
  "kernelspec": {
   "display_name": "Python 3 (ipykernel)",
   "language": "python",
   "name": "python3"
  },
  "language_info": {
   "codemirror_mode": {
    "name": "ipython",
    "version": 3
   },
   "file_extension": ".py",
   "mimetype": "text/x-python",
   "name": "python",
   "nbconvert_exporter": "python",
   "pygments_lexer": "ipython3",
   "version": "3.12.3"
  }
 },
 "nbformat": 4,
 "nbformat_minor": 5
}
