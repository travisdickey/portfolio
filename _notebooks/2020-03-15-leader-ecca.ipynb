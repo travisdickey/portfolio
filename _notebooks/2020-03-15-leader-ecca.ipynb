{
 "cells": [
  {
   "cell_type": "markdown",
   "metadata": {},
   "source": [
    "# Leadership at ECCA\n",
    "> Samples of current leadership work\n",
    "\n",
    "- toc: true \n",
    "- comments: false\n",
    "- badges: false\n",
    "- categories: [portfolio, Travis Dickey, ECCA, STEM, CTAE]\n",
    "- image: images/the_process.jpg"
   ]
  },
  {
   "cell_type": "markdown",
   "metadata": {},
   "source": [
    "# The STEM Vision\n",
    "> Samples of my work leading ECCA's pursuit of STEM certification"
   ]
  },
  {
   "cell_type": "markdown",
   "metadata": {},
   "source": [
    "While I have led the initiatives reflected in the samples below, I certainly have not done it alone. Each sample reflects a team effort. "
   ]
  },
  {
   "cell_type": "markdown",
   "metadata": {},
   "source": [
    "### STEM Certification\n",
    "\n",
    "I am honored to lead <a href=\"https://www.effinghamschools.com/Page/11517\" target=\"_blank\">ECCA's</a> pursuit of STEM certification, which includes the whole school, STEM and CTAE alike. Below are samples the faculty and STEM Leadership Team have developed as part of the effort."
   ]
  },
  {
   "cell_type": "markdown",
   "metadata": {},
   "source": [
    "### Intro to PLC's\n",
    "\n",
    "A short video reflecting groundwork laid to prepare for our first professional learning community meeting, or PLC\n",
    "\n",
    "> youtube: https://youtu.be/s8SStk-3sTM"
   ]
  },
  {
   "cell_type": "markdown",
   "metadata": {},
   "source": [
    "### STEM Fundamentals\n",
    "> The STEM Leadership team developed the following foundation for STEM and created a presentation for how to apply it to problem- and project-based units."
   ]
  },
  {
   "cell_type": "markdown",
   "metadata": {},
   "source": [
    "> Important: STEM here refers to teaching & learning in both STEM and CTAE courses, as both are about authentic, real-world learning."
   ]
  },
  {
   "cell_type": "markdown",
   "metadata": {},
   "source": [
    "**STEM Definition:** STEM is practical, real-world learning\n",
    "  \n",
    "**ECCA Vision:** Preparing students to develop practical solutions to real-world problems\n",
    "  \n",
    "**Framework:** STEM adheres to the following framework:  \n",
    "Inquiry- or project-based units of study, integrated across multiple disciplines, in which students collaborate and are self-directed, guided by teachers, and assessed on the quality of their performance. In addition, students have opportunities to work with mentors and share their work with others.  \n",
    "  \n",
    "**The Process:** The engineering design process is a key component of STEM teaching & learning. Working with a team of teachers and under the direction of our principal Ashley Kieffer, we developed the following graphic representation of what we simply call \"the process\", as it is intended to be used in all courses, not just engineering.\n",
    "<img src=\"my_icons/the_process.jpg\" alt=\"The Process\" style=\"width: 400px;\"/>\n",
    "\n",
    "**<a href=\"https://docs.google.com/presentation/d/1NFjJnL8o-rGoXiK_QLNaNFHMS7xBaNhqkrHoS2i7tsg/present?token=AC4w5Vgpg0inBqcrktFxTgQW9kSYDCcVzg%3A1584270866244&includes_info_params=1&eisi=CJ3g1_GsnOgCFQfngQodcb8NOA#slide=id.p\" target=\"_blank\">PLC Presentation</a>:** Describes the foundation for STEM with examples of what practical, real-world learning might look like.\n",
    "\n",
    "\n",
    "> Note: Throughout, the <a href=\"https://drive.google.com/file/d/1hSS07anGDlSgmvsi_086T4nQpU2hoFem/view?usp=sharing\" target=\"_blank\">Cognia (AdvancED) STEM Standards</a> have guided our development, and we have constantly sought feedback from stakeholders."
   ]
  },
  {
   "cell_type": "markdown",
   "metadata": {},
   "source": [
    "# Day-to-Day Leadership\n",
    "> Examples of leadership from a daily management perspective"
   ]
  },
  {
   "cell_type": "markdown",
   "metadata": {},
   "source": [
    "### Celebrating Success\n",
    "\n",
    "ECCA senior Skylar Kennett earned a full scholarship to Georgia Tech. I wrote <a href=\"https://www.effinghamschools.com/site/default.aspx?PageType=3&ModuleInstanceID=46709&ViewID=7b97f7ed-8e5e-4120-848f-a8b4987d588f&RenderLoc=0&FlexDataID=65290&PageID=34351\" target=\"_blank\">this blog post</a> to celebrate her succes.\n",
    "\n",
    "<img src=\"my_icons/s_kennett.PNG\" alt=\"Sky's the Limit for Skylar Kennett\" style=\"width:600px;\"/>"
   ]
  },
  {
   "cell_type": "markdown",
   "metadata": {},
   "source": [
    "### Working with Students\n",
    "\n",
    "STEM Leadership determined a need to improve displays of student work within the building, to better reflect the STEM culture. I mentioned the idea of a touchscreen display for visitors entering the building. Senior Mathiew Tackitt took the idea and ran with it, developing a splash screen for the display, which will eventually link to information specifically for parents, students, and other visitors.\n",
    "\n",
    "![splash screen](my_icons/splash-screen.gif)"
   ]
  },
  {
   "cell_type": "markdown",
   "metadata": {},
   "source": [
    "### Traffic Management\n",
    "\n",
    "Traffic exiting the parking lot gets quite congested. I created this video to help alleviate some of the congestion, and Kim Larson added graphics to it.\n",
    "> youtube: https://youtu.be/RDith5rmrSQ"
   ]
  },
  {
   "cell_type": "markdown",
   "metadata": {},
   "source": [
    "### Presenting to Research\n",
    "\n",
    "Dr. Thompson invited me to present to her scientific research classes on my hobby of data science, machine learning, and deep learning. I wrote <a href=\"https://www.effinghamschools.com/cms/lib/GA01000314/Centricity/Domain/2320/sch_you_can_do.html\" target=\"_blank\">this blog post</a> highlighting the main ideas from the presentation. \n",
    "\n",
    "<img src=\"my_icons/can-do-ai.PNG\" alt=\"You Can Do AI\" style=\"width:600px;\"/>"
   ]
  }
 ],
 "metadata": {
  "kernelspec": {
   "display_name": "Python 3 (ipykernel)",
   "language": "python",
   "name": "python3"
  },
  "language_info": {
   "codemirror_mode": {
    "name": "ipython",
    "version": 3
   },
   "file_extension": ".py",
   "mimetype": "text/x-python",
   "name": "python",
   "nbconvert_exporter": "python",
   "pygments_lexer": "ipython3",
   "version": "3.12.3"
  }
 },
 "nbformat": 4,
 "nbformat_minor": 4
}
